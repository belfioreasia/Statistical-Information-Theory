{
 "cells": [
  {
   "cell_type": "code",
   "execution_count": 1,
   "metadata": {},
   "outputs": [],
   "source": [
    "from typing import Callable, Dict, List, Tuple, Union\n",
    "import numpy as np\n",
    "import numpy.random as rn\n",
    "from itertools import product\n",
    "from importlib import reload\n",
    "import coursework as cw"
   ]
  },
  {
   "cell_type": "code",
   "execution_count": 2,
   "metadata": {},
   "outputs": [
    {
     "data": {
      "text/plain": [
       "(array([[1, 0, 1, 0, 1, 0, 1],\n",
       "        [0, 1, 1, 0, 0, 1, 1],\n",
       "        [0, 0, 0, 1, 1, 1, 1]]),\n",
       " (3, 7))"
      ]
     },
     "execution_count": 2,
     "metadata": {},
     "output_type": "execute_result"
    }
   ],
   "source": [
    "m = 3\n",
    "transpose_rows = []\n",
    "\n",
    "n_binary_encodings = [np.binary_repr(i, width=m) for i in range(1,2**m)]\n",
    "n_binary_encodings = [[int(c[i]) for i in range(m)] for c in n_binary_encodings]\n",
    "\n",
    "for i in range(m-1, -1, -1):\n",
    "    transpose_rows.append([n_binary_encodings[j][i] for j in range(2**m-1)])\n",
    "\n",
    "H = np.array(transpose_rows)\n",
    "H, H.shape\n",
    "\n",
    "# np.array(matrix_rows)"
   ]
  },
  {
   "cell_type": "code",
   "execution_count": 3,
   "metadata": {},
   "outputs": [
    {
     "data": {
      "text/plain": [
       "array([[1, 1, 1, 0, 0, 0, 0],\n",
       "       [1, 0, 0, 1, 1, 0, 0],\n",
       "       [0, 1, 0, 1, 0, 1, 0],\n",
       "       [1, 1, 0, 1, 0, 0, 1]])"
      ]
     },
     "execution_count": 3,
     "metadata": {},
     "output_type": "execute_result"
    }
   ],
   "source": [
    "m = 3\n",
    "k = np.arange(4)\n",
    "k_int = k.shape[0]\n",
    "\n",
    "transpose_rows = []\n",
    "parity_bit_positions = [((2**i)-1) for i in range(m)]\n",
    "parity_idx = 0\n",
    "\n",
    "identity_k = np.identity(k_int)\n",
    "identity_idx = 0\n",
    "\n",
    "for row_idx in range(k_int+m): \n",
    "    row = []\n",
    "    if row_idx in parity_bit_positions:\n",
    "        parity_bits_from_H = H[:][parity_idx]\n",
    "        for bit in range(H.shape[1]):\n",
    "            if bit not in parity_bit_positions:\n",
    "                row.append(parity_bits_from_H[bit])\n",
    "        parity_idx += 1\n",
    "    else:\n",
    "        row = [int(item) for item in identity_k[identity_idx].tolist()]\n",
    "        identity_idx += 1\n",
    "\n",
    "    transpose_rows.append(row)\n",
    "\n",
    "G = np.array(transpose_rows).T\n",
    "G\n"
   ]
  },
  {
   "cell_type": "code",
   "execution_count": 4,
   "metadata": {},
   "outputs": [
    {
     "name": "stdout",
     "output_type": "stream",
     "text": [
      "[0 1 0 1] \n",
      " [0 1 0 0 1 0 1] \n",
      " [1. 0. 1.]\n",
      "Error detected in position 5\n",
      "Received message: [0. 1. 0. 0. 0. 0. 1.]\n",
      "Corrected message: [0. 1. 0. 0. 1. 0. 1.]\n"
     ]
    },
    {
     "data": {
      "text/plain": [
       "array([0., 1., 0., 1.])"
      ]
     },
     "execution_count": 4,
     "metadata": {},
     "output_type": "execute_result"
    }
   ],
   "source": [
    "k = 4\n",
    "m = 3\n",
    "data = np.array([0, 1, 0, 1])\n",
    "\n",
    "n = np.zeros(m+k)\n",
    "n[4] = 1\n",
    "\n",
    "t = (G.T @ data) % 2 # transmitted string\n",
    "r = (t+n) % 2 # received string with flipped bit in position 5\n",
    "z = (H@r) % 2\n",
    "\n",
    "print(data,'\\n', t,'\\n',z)\n",
    "if (z>0).any():\n",
    "    z_binary = [int(i) for i in z]\n",
    "    error_pos = 0\n",
    "    for i in range(len(z_binary)):\n",
    "        error_pos += (z_binary[i] * (2**i))\n",
    "    print(f\"Error detected in position {error_pos}\")\n",
    "    print(f\"Received message: {r}\")\n",
    "    r[error_pos-1] = int(not r[error_pos-1])\n",
    "    print(f\"Corrected message: {r}\")\n",
    "\n",
    "R = np.copy(G)\n",
    "parity_bits = [((2**i)-1) for i in range(m)]\n",
    "for i in parity_bits:\n",
    "    R[:,i] = np.zeros(R.shape[0]).T\n",
    "decoded_r = (R@r) % 2\n",
    "decoded_r"
   ]
  },
  {
   "cell_type": "code",
   "execution_count": 132,
   "metadata": {},
   "outputs": [
    {
     "name": "stdout",
     "output_type": "stream",
     "text": [
      "m=1, n=1\n",
      "m=2, n=3\n",
      "m=3, n=7\n",
      "m=4, n=15\n",
      "m=5 not valid\n",
      "m=6 not valid\n",
      "m=7 not valid\n",
      "m=8 not valid\n",
      "m=9 not valid\n",
      "m=10 not valid\n"
     ]
    }
   ],
   "source": [
    "from pandas.core.common import flatten\n",
    "\n",
    "with open('secret.txt', 'r') as f:\n",
    "    bits = f.read()\n",
    "msg = np.array([ int(b) for b in bits ]).astype(int)\n",
    "\n",
    "decoded_msg = {}\n",
    "for m in range(1,11):\n",
    "    n = 2**m - 1\n",
    "    if len(msg) % n == 0:\n",
    "        print(f\"m={m}, n={n}\")\n",
    "        splits = len(msg) // n\n",
    "        decoded_string = []\n",
    "        i = 0\n",
    "        done = False\n",
    "        while not done:\n",
    "            start = i*n\n",
    "            end = start + n\n",
    "            codeword = msg[start:end].copy()\n",
    "            decoded_string.append((cw.hamming_decode(codeword, m)).tolist())\n",
    "            i += 1\n",
    "            if end + n > len(msg): \n",
    "                done = True\n",
    "        decoded_msg[m] = decoded_string\n",
    "    else: \n",
    "        print(f\"m={m} not valid\")\n",
    "        continue\n",
    "\n",
    "secrets = {}\n",
    "for k in decoded_msg.keys():\n",
    "    try:\n",
    "        string_code = np.array(decoded_msg[k]).flatten()\n",
    "        decoded_secret = cw.bits2text(string_code)\n",
    "        secrets[k] = decoded_secret\n",
    "    except:\n",
    "        print(f\"m={k} not valid\")"
   ]
  },
  {
   "cell_type": "code",
   "execution_count": 135,
   "metadata": {},
   "outputs": [
    {
     "name": "stdout",
     "output_type": "stream",
     "text": [
      "\n",
      "the bell system technical journal\n",
      "vol. xx, april, 1950, no. 2\n",
      "error detecting and error correcting codes\n",
      "by r. w. hamming\n",
      "1. introduction\n",
      "he author was\"ìed to the studyªgiven in this paper from a consideration of large scale computing machines in which a large number of\n",
      "operations must be performed without a single error in the end result- this\n",
      "problem of dÏing things right on a large scale is not essentially new in a\n",
      "telephone central office, for example, a very large nuiber of operations are\n",
      "performed w(\tle the errors leading to wrong numbers are kept wedl under\n",
      "control, though they have not been completely eliminated. thkS has been\n",
      "\n",
      "achieved, in part, through the use of selfchecking circuits. the occasional\n",
      "failure that escapes routine checking is still detected by the customer and\n",
      "will, if it persists, result in customer complaint, while if it is transient it will\n",
      "produce only occasional wrong numbers. at the same time the rest of the\n",
      "central office functions satisfactorily. in a digital computer, on the other\n",
      "hand, a single failure usually means the compdete failure, in the sense that\n",
      "if it is detected no more computing can be done until the failure is located\n",
      "\n",
      "and corrected, while if it escapes detection then iw invcMidates all subsequent\n",
      "operations of the machine. pu| in other words, in a telet`one central office\n",
      "there are a number of parallel paths which are more or L%ss independent of\n",
      "each other in a digital machine there is usually a single long path which\n",
      "passes through the same piece of equipment many, many times before tH-\n",
      "answer is obtained.\n",
      "in transmitting information from one place to another digital machines\n",
      "use codes which are simply sets of symbols to which meanings or values are\n",
      "attached. examples of codes which were designed to detect isolapcd errors\n",
      "are numerous among them are the highly developed 2 out of 5 codes used\n",
      "extensively in common control switching systems and in the bell relay\n",
      "\n",
      "\n",
      "computers, the 3 out of 7 code used for radio telegraphy, and the word\n",
      "count sent at the end of telegrams.\n",
      "\n",
      "in some situations self chgCking is not enough. for example, in the model\n",
      "5 relay computers built by bell telephone laboratories for the aberdeen\n",
      "proving grounds, observations in the¨early period indicated about two\n",
      "or three relay failures per day in the 8900 relays of the two computers, representing about one failure per two to three million relay operations. the self\n",
      "\n",
      "checking feature meant that these failures did not introduce undetected\n",
      "errors. since the machines were run on an unattended basis over nights and\n",
      "weekends, however, the errors meant that frequently the computations\n",
      "came tn a halt althoumh often the machines took up new problems. the\n",
      "present trend is toward electronic speews in di_ital computers vhere the\n",
      "basic elements are somewhat more reliablm per operation than relays. however, the incidenc\u0004 of isolated failures, even ehen detected, may seriously\n",
      "interfere with the normal use of such machines. thus it appears desirable\n",
      "to examine the next step beyond error detection, namely esBor correction.\n",
      "we shall assume that the transmitting equipment handles information\n",
      "in the binary form of a sequence of 0s and(±s. this assumption is made\n",
      "\n",
      "both for mathematical convenience and because the binary system is the\n",
      "natural form for representing the open and closed relays, fl)ðflop cirbUits,\n",
      "dots and dashes, and\n"
     ]
    }
   ],
   "source": [
    "alphabet = \"abcdefghijklmnopqrstuvwxyz01234567890 .,\\n\"\n",
    "alphabet_chars = [c[0] for c in alphabet]\n",
    "\n",
    "for k in secrets.keys():\n",
    "    test_word = secrets[k][:10]\n",
    "    broken = False\n",
    "    for c in test_word:\n",
    "        if c not in alphabet_chars:\n",
    "            broken = True\n",
    "        if broken:\n",
    "            break\n",
    "\n",
    "    if not broken: \n",
    "        print(secrets[k])"
   ]
  },
  {
   "cell_type": "code",
   "execution_count": 133,
   "metadata": {},
   "outputs": [
    {
     "name": "stdout",
     "output_type": "stream",
     "text": [
      "\n",
      "m=1: \n",
      "\n",
      "m=4: the bell system technical journal\n",
      "vol. xx, april, 1950, no. 2\n",
      "error detecting and error correcting codes\n",
      "by r. w. hamming\n",
      "1. introduction\n",
      "he author was\"ìed to the studyªgiven in this paper from a consideration of large scale computing machines in which a large number of\n",
      "operations must be performed without a single error in the end result- this\n",
      "problem of dÏing things right on a large scale is not essentially new in a\n",
      "telephone central office, for example, a very large nuiber of operations are\n",
      "performed w(\tle the errors leading to wrong numbers are kept wedl under\n",
      "control, though they have not been completely eliminated. thkS has been\n",
      "\n",
      "achieved, in part, through the use of selfchecking circuits. the occasional\n",
      "failure that escapes routine checking is still detected by the customer and\n",
      "will, if it persists, result in customer complaint, while if it is transient it will\n",
      "produce only occasional wrong numbers. at the same time the rest of the\n",
      "central office functions satisfactorily. in a digital computer, on the other\n",
      "hand, a single failure usually means the compdete failure, in the sense that\n",
      "if it is detected no more computing can be done until the failure is located\n",
      "\n",
      "and corrected, while if it escapes detection then iw invcMidates all subsequent\n",
      "operations of the machine. pu| in other words, in a telet`one central office\n",
      "there are a number of parallel paths which are more or L%ss independent of\n",
      "each other in a digital machine there is usually a single long path which\n",
      "passes through the same piece of equipment many, many times before tH-\n",
      "answer is obtained.\n",
      "in transmitting information from one place to another digital machines\n",
      "use codes which are simply sets of symbols to which meanings or values are\n",
      "attached. examples of codes which were designed to detect isolapcd errors\n",
      "are numerous among them are the highly developed 2 out of 5 codes used\n",
      "extensively in common control switching systems and in the bell relay\n",
      "\n",
      "\n",
      "computers, the 3 out of 7 code used for radio telegraphy, and the word\n",
      "count sent at the end of telegrams.\n",
      "\n",
      "in some situations self chgCking is not enough. for example, in the model\n",
      "5 relay computers built by bell telephone laboratories for the aberdeen\n",
      "proving grounds, observations in the¨early period indicated about two\n",
      "or three relay failures per day in the 8900 relays of the two computers, representing about one failure per two to three million relay operations. the self\n",
      "\n",
      "checking feature meant that these failures did not introduce undetected\n",
      "errors. since the machines were run on an unattended basis over nights and\n",
      "weekends, however, the errors meant that frequently the computations\n",
      "came tn a halt althoumh often the machines took up new problems. the\n",
      "present trend is toward electronic speews in di_ital computers vhere the\n",
      "basic elements are somewhat more reliablm per operation than relays. however, the incidenc\u0004 of isolated failures, even ehen detected, may seriously\n",
      "interfere with the normal use of such machines. thus it appears desirable\n",
      "to examine the next step beyond error detection, namely esBor correction.\n",
      "we shall assume that the transmitting equipment handles information\n",
      "in the binary form of a sequence of 0s and(±s. this assumption is made\n",
      "\n",
      "both for mathematical convenience and because the binary system is the\n",
      "natural form for representing the open and closed relays, fl)ðflop cirbUits,\n",
      "dots and dashes, and\n"
     ]
    }
   ],
   "source": [
    "alphabet = [c[0] for c in \"abcdefghijklmnopqrstuvwxyz01234567890 .,\\n\"]\n",
    "\n",
    "for k in secrets.keys():\n",
    "    test_word = secrets[k][:10]\n",
    "    broken = False\n",
    "    for c in test_word:\n",
    "        if c not in alphabet:\n",
    "            broken = True\n",
    "        if broken:\n",
    "            break\n",
    "        \n",
    "    if not broken: \n",
    "        print(f\"\\nm={k}: {secrets[k]}\")"
   ]
  }
 ],
 "metadata": {
  "kernelspec": {
   "display_name": "Python 3",
   "language": "python",
   "name": "python3"
  },
  "language_info": {
   "codemirror_mode": {
    "name": "ipython",
    "version": 3
   },
   "file_extension": ".py",
   "mimetype": "text/x-python",
   "name": "python",
   "nbconvert_exporter": "python",
   "pygments_lexer": "ipython3",
   "version": "3.9.6"
  }
 },
 "nbformat": 4,
 "nbformat_minor": 2
}
